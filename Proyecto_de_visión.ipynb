{
  "nbformat": 4,
  "nbformat_minor": 0,
  "metadata": {
    "colab": {
      "name": "Proyecto de visión.ipynb",
      "provenance": [],
      "collapsed_sections": [],
      "authorship_tag": "ABX9TyMAMOpJU1x23Zgj+AP+d6Co",
      "include_colab_link": true
    },
    "kernelspec": {
      "name": "python3",
      "display_name": "Python 3"
    },
    "language_info": {
      "name": "python"
    }
  },
  "cells": [
    {
      "cell_type": "markdown",
      "metadata": {
        "id": "view-in-github",
        "colab_type": "text"
      },
      "source": [
        "<a href=\"https://colab.research.google.com/github/bloodfield2/ProyectoVision/blob/main/Proyecto_de_visi%C3%B3n.ipynb\" target=\"_parent\"><img src=\"https://colab.research.google.com/assets/colab-badge.svg\" alt=\"Open In Colab\"/></a>"
      ]
    },
    {
      "cell_type": "markdown",
      "source": [
        "# Proyecto de Visión \n",
        "#     Practical Self Calibration Using a Planar Scene\n",
        "## Estudiantes\n",
        "Chin Parra Keny\n",
        "\n",
        "Chávez Aparicio Edgar Iván\n",
        "\n",
        "##    Guía\n",
        "\n",
        "1. cargar los siguientes archivos a /content/:\n",
        "+ calibrate/\n",
        "+ rookie.py\n"
      ],
      "metadata": {
        "id": "3MCCel8fxD8R"
      }
    },
    {
      "cell_type": "markdown",
      "source": [
        "#    EN PROGRESO:\n",
        "\n",
        "Se está probando el código para el caso de un solo par de imágenes para\n",
        "después extender a N.\n",
        "\n",
        "#    Instrucciones:\n",
        "\n",
        "Trabajar las funciones de forma modular en `rookie.py`\n",
        "Lo que se esté trabajando, desarrollarlo en el block de notas\n",
        "Una vez terminadas las faces, hacer un módulo si está muy grande\n",
        "\n",
        "#    TODO\n",
        "\n",
        "##  ~Para un solo par de imágnes~\n",
        "+ ~Feature Matching~\n",
        "+ ~Projective reconstruction~\n",
        "+ ~Projective Boundle Adjustment~\n",
        "+ ~Homography based calibration~\n",
        "+ ~Metric reconstruction~\n",
        "\n",
        "\n",
        "##  ~Para N imágnes~\n",
        "+ ~Feature Matching~\n",
        "+ ~Projective reconstruction~\n",
        "+ ~Projective Boundle Adjustment~\n",
        "+ ~Homography based calibration~\n",
        "+ ~Metric reconstruction~"
      ],
      "metadata": {
        "id": "IKiy96nf4hpn"
      }
    },
    {
      "cell_type": "code",
      "execution_count": 1,
      "metadata": {
        "id": "xZMD-zXawuEf"
      },
      "outputs": [],
      "source": [
        "import numpy as np\n",
        "import cv2 \n",
        "import glob\n",
        "from rookie  import *\n",
        "from scipy.optimize import minimize\n",
        "from scipy.optimize import minimize_scalar\n"
      ]
    },
    {
      "cell_type": "code",
      "source": [
        "images = glob.glob('calibrate/*.jpg') # al menos 15\n",
        "objpoints, imgpoints, rets =  chesscalib(images)\n",
        "ret, mtx, dist, rvecs, tvecs = rets\n",
        "error = err_calib(objpoints, imgpoints,rets)\n",
        "print( \"total error: \",error )\n",
        "print(mtx)"
      ],
      "metadata": {
        "id": "R51ubK-Pzxc5",
        "colab": {
          "base_uri": "https://localhost:8080/"
        },
        "outputId": "df22de25-82ec-4289-b96b-5d84b4c97818"
      },
      "execution_count": 2,
      "outputs": [
        {
          "output_type": "stream",
          "name": "stdout",
          "text": [
            "total error:  0.04249816179320835\n",
            "[[867.11547226   0.         290.0935642 ]\n",
            " [  0.         868.58681435 252.66703266]\n",
            " [  0.           0.           1.        ]]\n"
          ]
        }
      ]
    },
    {
      "cell_type": "code",
      "source": [
        " #   images[0] is the reference\n",
        "img1 = cv2.imread(images[0],0)\n",
        "\n",
        "Hlist = []\n",
        "Referencepoints = []\n",
        "imagespoints = []\n",
        "\n",
        "for i in range(1,len(images)):\n",
        "    \n",
        "    #   Step 1: Feature Matching\n",
        "    img2 = cv2.imread(images[i],0)\n",
        "    points1, points2 = Features(img1,img2)\n",
        "    Referencepoints.append(points1)\n",
        "    imagespoints.append(points2)\n",
        "    \n",
        "    #   Step 2: First Proyective resconstruction\n",
        "    h, status = cv2.findHomography(points1, points2, cv2.RANSAC,0.5)\n",
        "    Hlist.append(h)\n"
      ],
      "metadata": {
        "id": "OF-okkqb1CM7"
      },
      "execution_count": 3,
      "outputs": []
    },
    {
      "cell_type": "code",
      "source": [
        "# Part 3: Projective Boundle adjustment\n",
        "x = np.array([1,1,1,1]) # P0, d\n",
        "center = np.array(list(img1.shape))/2\n",
        "center = center.reshape((2,1))\n",
        "args = (Referencepoints,imagespoints,Hlist,center)\n",
        "#PBA(x,points1,points2,h,np.array(list(img1.shape))/2.0 )\n",
        "xmin = minimize(PBA, x,args = args, method='nelder-mead',options={'maxiter' :2000,'disp': True},tol = 10**-7)\n",
        "print(xmin)\n",
        "xmin = xmin['x']\n",
        "p0 = xmin[:2]\n",
        "d = xmin[2:]\n",
        "print('P0 = ',p0)\n",
        "print('d = ',d)"
      ],
      "metadata": {
        "id": "RhFjN73Q3zeB",
        "colab": {
          "base_uri": "https://localhost:8080/"
        },
        "outputId": "26b44aac-6ab8-4a25-dbb4-1553b9112154"
      },
      "execution_count": 4,
      "outputs": [
        {
          "output_type": "stream",
          "name": "stdout",
          "text": [
            "Optimization terminated successfully.\n",
            "         Current function value: 55637.602976\n",
            "         Iterations: 799\n",
            "         Function evaluations: 1421\n",
            " final_simplex: (array([[-4.53865010e-01,  5.01934196e+00,  5.68568183e-08,\n",
            "        -3.06490973e-13],\n",
            "       [-4.53865010e-01,  5.01934196e+00,  5.68580744e-08,\n",
            "        -3.06492344e-13],\n",
            "       [-4.53865010e-01,  5.01934196e+00,  5.68569444e-08,\n",
            "        -3.06490860e-13],\n",
            "       [-4.53865010e-01,  5.01934196e+00,  5.68572174e-08,\n",
            "        -3.06492522e-13],\n",
            "       [-4.53865010e-01,  5.01934196e+00,  5.68574824e-08,\n",
            "        -3.06492964e-13]]), array([55637.60297586, 55637.60297587, 55637.60297587, 55637.60297587,\n",
            "       55637.60297591]))\n",
            "           fun: 55637.60297585678\n",
            "       message: 'Optimization terminated successfully.'\n",
            "          nfev: 1421\n",
            "           nit: 799\n",
            "        status: 0\n",
            "       success: True\n",
            "             x: array([-4.53865010e-01,  5.01934196e+00,  5.68568183e-08, -3.06490973e-13])\n",
            "P0 =  [-0.45386501  5.01934196]\n",
            "d =  [ 5.68568183e-08 -3.06490973e-13]\n"
          ]
        }
      ]
    },
    {
      "cell_type": "code",
      "source": [
        "\n",
        "#   part 4: Homography self calibration\n",
        "for i in range(len(Hlist)):\n",
        "    Hlist[i] /= norm(Hlist[i])\n",
        "args = (Hlist)\n",
        "xmin = minimize_scalar(residuals, args = args,tol = 10**-7)\n",
        "print(xmin)\n",
        "f = xmin['x']\n",
        "print('f = ',f)\n",
        "\n",
        "#for i in range(len(Hlist)):\n",
        "    #Hlist[i] /= norm(Hlist[i])\n",
        "args = (Hlist)\n",
        "x = np.array([f,p0[0],f,p0[1],0,0,1])\n",
        "xmin = minimize(FNF, x,args = args, method='nelder-mead',options={'disp': True},tol = 10**-7)\n",
        "print(xmin)\n",
        "xmin = xmin['x']\n",
        "f = np.array([xmin[0],xmin[2]])\n",
        "p0 = np.array([xmin[1],xmin[3]]).reshape((2,1))\n",
        "n0 = xmin[4:]\n",
        "print('P0 = ',p0)\n",
        "print('f = ',f)\n",
        "print('n0 = ',n0)\n"
      ],
      "metadata": {
        "colab": {
          "base_uri": "https://localhost:8080/"
        },
        "id": "vDHrVOJDuSv_",
        "outputId": "cb57f949-4c71-4275-a442-ca59e9e40871"
      },
      "execution_count": 5,
      "outputs": [
        {
          "output_type": "stream",
          "name": "stdout",
          "text": [
            "     fun: 0.0009660505280568198\n",
            "    nfev: 15\n",
            "     nit: 11\n",
            " success: True\n",
            "       x: 1.1441351800235494e-11\n",
            "f =  1.1441351800235494e-11\n",
            "Warning: Maximum number of function evaluations has been exceeded.\n",
            " final_simplex: (array([[ 1.31036759e-11, -4.36878016e-01,  7.83794374e-12,\n",
            "         4.31121588e+00,  8.06569090e-04, -3.70844763e-14,\n",
            "         1.20505009e+00],\n",
            "       [ 1.30880266e-11, -4.37037933e-01,  7.87186655e-12,\n",
            "         4.31788224e+00,  8.01329504e-04, -3.71866640e-14,\n",
            "         1.20311973e+00],\n",
            "       [ 1.30645657e-11, -4.37277677e-01,  7.92272278e-12,\n",
            "         4.32787629e+00,  7.93474444e-04, -3.73364717e-14,\n",
            "         1.20022578e+00],\n",
            "       [ 1.30799400e-11, -4.37120569e-01,  7.88939601e-12,\n",
            "         4.32132705e+00,  7.98621972e-04, -3.72393646e-14,\n",
            "         1.20212222e+00],\n",
            "       [ 1.30761228e-11, -4.37159576e-01,  7.89767038e-12,\n",
            "         4.32295310e+00,  7.97343944e-04, -3.72639039e-14,\n",
            "         1.20165137e+00],\n",
            "       [ 1.30605470e-11, -4.37318742e-01,  7.93143398e-12,\n",
            "         4.32958817e+00,  7.92128945e-04, -3.73615703e-14,\n",
            "         1.19973007e+00],\n",
            "       [ 1.30551708e-11, -4.37373681e-01,  7.94308789e-12,\n",
            "         4.33187835e+00,  7.90328927e-04, -3.73970806e-14,\n",
            "         1.19906691e+00],\n",
            "       [ 1.30555205e-11, -4.37370108e-01,  7.94232993e-12,\n",
            "         4.33172940e+00,  7.90445999e-04, -3.73943404e-14,\n",
            "         1.19911004e+00]]), array([-9.81779947e+27, -9.41253441e+27, -9.28297390e+27, -9.16777831e+27,\n",
            "       -9.15774349e+27, -9.13393328e+27, -9.11246305e+27, -9.09984682e+27]))\n",
            "           fun: -9.817799467904451e+27\n",
            "       message: 'Maximum number of function evaluations has been exceeded.'\n",
            "          nfev: 1400\n",
            "           nit: 841\n",
            "        status: 1\n",
            "       success: False\n",
            "             x: array([ 1.31036759e-11, -4.36878016e-01,  7.83794374e-12,  4.31121588e+00,\n",
            "        8.06569090e-04, -3.70844763e-14,  1.20505009e+00])\n",
            "P0 =  [[-0.43687802]\n",
            " [ 4.31121588]]\n",
            "f =  [1.31036759e-11 7.83794374e-12]\n",
            "n0 =  [ 8.06569090e-04 -3.70844763e-14  1.20505009e+00]\n"
          ]
        }
      ]
    },
    {
      "cell_type": "code",
      "source": [
        "#   part 5: Metric Reconstruction\n",
        "K = np.array([[xmin[0],0,xmin[1]],[0,xmin[2],xmin[3]],[0,0,1]])\n",
        "x = np.concatenate([K.reshape((9)),d])    #   K d \n",
        "args = (n0,Hlist,p0,Referencepoints,imagespoints)\n",
        "res = MRF(x,*args)\n",
        "xmin = minimize(MRF, x,args = args, method='nelder-mead',options={'disp': True},tol = 10**-7)\n",
        "print(xmin)\n",
        "xmin = xmin['x']\n",
        "K = xmin[:9]\n",
        "K = K.reshape((3,3))\n",
        "K /= K[2,2]\n",
        "print(K)\n",
        "print(mtx)\n"
      ],
      "metadata": {
        "colab": {
          "base_uri": "https://localhost:8080/"
        },
        "id": "aJG2WBiQvRR6",
        "outputId": "3586139d-4865-4320-9cf0-87b69f0bea9c"
      },
      "execution_count": 6,
      "outputs": [
        {
          "output_type": "stream",
          "name": "stdout",
          "text": [
            "Warning: Maximum number of function evaluations has been exceeded.\n",
            " final_simplex: (array([[ 2.14690004e-10,  3.08475030e-01,  3.36719647e+00,\n",
            "        -1.44611468e-01, -2.21481667e-10,  3.16485927e+00,\n",
            "         1.57264880e-01, -1.88894973e-01,  1.17841875e-02,\n",
            "        -8.68668133e-08,  5.11333878e-13],\n",
            "       [ 2.14704427e-10,  3.08511975e-01,  3.36663673e+00,\n",
            "        -1.44650283e-01, -2.21443737e-10,  3.16343707e+00,\n",
            "         1.57279949e-01, -1.88937652e-01,  1.17705724e-02,\n",
            "        -8.70922475e-08,  5.10953037e-13],\n",
            "       [ 2.14679214e-10,  3.08448011e-01,  3.36737140e+00,\n",
            "        -1.44588398e-01, -2.21490266e-10,  3.16384755e+00,\n",
            "         1.57252122e-01, -1.88870008e-01,  1.17897668e-02,\n",
            "        -8.67589432e-08,  5.11348642e-13],\n",
            "       [ 2.14700418e-10,  3.08503002e-01,  3.36659084e+00,\n",
            "        -1.44644671e-01, -2.21439929e-10,  3.16268748e+00,\n",
            "         1.57275204e-01, -1.88931523e-01,  1.17699771e-02,\n",
            "        -8.70766030e-08,  5.10894856e-13],\n",
            "       [ 2.14525817e-10,  3.08188046e-01,  3.36518671e+00,\n",
            "        -1.44445648e-01, -2.21350074e-10,  3.16177018e+00,\n",
            "         1.57121030e-01, -1.88694791e-01,  1.17850704e-02,\n",
            "        -8.64537617e-08,  5.10678075e-13],\n",
            "       [ 2.14493996e-10,  3.08104614e-01,  3.36667715e+00,\n",
            "        -1.44355728e-01, -2.21439114e-10,  3.16391781e+00,\n",
            "         1.57086960e-01, -1.88597276e-01,  1.18146443e-02,\n",
            "        -8.59324418e-08,  5.11396627e-13],\n",
            "       [ 2.14578197e-10,  3.08251341e-01,  3.36741830e+00,\n",
            "        -1.44446761e-01, -2.21483226e-10,  3.16268802e+00,\n",
            "         1.57158264e-01, -1.88707453e-01,  1.18046832e-02,\n",
            "        -8.62106203e-08,  5.11397299e-13],\n",
            "       [ 2.14390636e-10,  3.07922447e-01,  3.36541136e+00,\n",
            "        -1.44249554e-01, -2.21358790e-10,  3.16200539e+00,\n",
            "         1.56995774e-01, -1.88469416e-01,  1.18146407e-02,\n",
            "        -8.56592199e-08,  5.11028515e-13],\n",
            "       [ 2.14466342e-10,  3.08057176e-01,  3.36610572e+00,\n",
            "        -1.44332881e-01, -2.21402303e-10,  3.16225595e+00,\n",
            "         1.57061936e-01, -1.88569163e-01,  1.18097849e-02,\n",
            "        -8.59091991e-08,  5.11137805e-13],\n",
            "       [ 2.14288462e-10,  3.07739918e-01,  3.36414798e+00,\n",
            "        -1.44142433e-01, -2.21280292e-10,  3.15967032e+00,\n",
            "         1.56904288e-01, -1.88340952e-01,  1.18151849e-02,\n",
            "        -8.53776693e-08,  5.10668745e-13],\n",
            "       [ 2.14226327e-10,  3.07634930e-01,  3.36350864e+00,\n",
            "        -1.44080728e-01, -2.21236735e-10,  3.15996386e+00,\n",
            "         1.56852535e-01, -1.88265742e-01,  1.18161694e-02,\n",
            "        -8.52158139e-08,  5.10511981e-13],\n",
            "       [ 2.14223407e-10,  3.07622961e-01,  3.36394265e+00,\n",
            "        -1.44062903e-01, -2.21265766e-10,  3.16114198e+00,\n",
            "         1.56848778e-01, -1.88246626e-01,  1.18266577e-02,\n",
            "        -8.50911605e-08,  5.10783821e-13]]), array([51634.29848067, 51634.30608799, 51634.30817909, 51634.30842425,\n",
            "       51634.31083962, 51634.31244822, 51634.31246561, 51634.31359011,\n",
            "       51634.31415597, 51634.31417042, 51634.31707636, 51634.31734858]))\n",
            "           fun: 51634.29848067477\n",
            "       message: 'Maximum number of function evaluations has been exceeded.'\n",
            "          nfev: 2200\n",
            "           nit: 1557\n",
            "        status: 1\n",
            "       success: False\n",
            "             x: array([ 2.14690004e-10,  3.08475030e-01,  3.36719647e+00, -1.44611468e-01,\n",
            "       -2.21481667e-10,  3.16485927e+00,  1.57264880e-01, -1.88894973e-01,\n",
            "        1.17841875e-02, -8.68668133e-08,  5.11333878e-13])\n",
            "[[ 1.82184817e-08  2.61770300e+01  2.85738535e+02]\n",
            " [-1.22716538e+01 -1.87948187e-08  2.68568306e+02]\n",
            " [ 1.33454157e+01 -1.60295288e+01  1.00000000e+00]]\n",
            "[[867.11547226   0.         290.0935642 ]\n",
            " [  0.         868.58681435 252.66703266]\n",
            " [  0.           0.           1.        ]]\n"
          ]
        }
      ]
    },
    {
      "cell_type": "code",
      "source": [
        "#   Test\n",
        "m = points1.shape[0]\n",
        "test_pref = np.concatenate([points1.T,np.ones((1,m))])\n",
        "test_pref = h@test_pref \n",
        "test_pref = test_pref[:2,:]/test_pref[2,:]\n",
        "test_pref = Distorted(test_pref,xmin[:2].reshape((2,1)),xmin[2:4])\n",
        "norms = np.linalg.norm(test_pref-points2,axis = 1)\n",
        "print(norms.sum(),norms.mean(),norms.max())\n",
        "test_pref = np.concatenate([points1.T,np.ones((1,m))])\n",
        "test_pref = h@test_pref \n",
        "test_pref = test_pref[:2,:]/test_pref[2,:]\n",
        "norms = np.linalg.norm(test_pref.T-points2,axis = 1)\n",
        "print(norms.sum(),norms.mean(),norms.max())"
      ],
      "metadata": {
        "colab": {
          "base_uri": "https://localhost:8080/"
        },
        "id": "PSwhJ25sFqo4",
        "outputId": "0b661d9f-b747-4df4-8d92-6baffb570ce2"
      },
      "execution_count": 6,
      "outputs": [
        {
          "output_type": "stream",
          "name": "stdout",
          "text": [
            "74.27147400871847 0.9902863201162463 5.761299192945103\n",
            "74.27576287630956 0.9903435050174607 5.767173511835501\n"
          ]
        }
      ]
    },
    {
      "cell_type": "code",
      "source": [
        ""
      ],
      "metadata": {
        "id": "vqBCmGN2ayf-"
      },
      "execution_count": null,
      "outputs": []
    }
  ]
}
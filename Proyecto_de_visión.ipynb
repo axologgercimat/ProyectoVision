{
  "nbformat": 4,
  "nbformat_minor": 0,
  "metadata": {
    "colab": {
      "name": "Proyecto de visión.ipynb",
      "provenance": [],
      "collapsed_sections": [],
      "authorship_tag": "ABX9TyMtMP3cII9ZO0m2wfTYXrb+",
      "include_colab_link": true
    },
    "kernelspec": {
      "name": "python3",
      "display_name": "Python 3"
    },
    "language_info": {
      "name": "python"
    }
  },
  "cells": [
    {
      "cell_type": "markdown",
      "metadata": {
        "id": "view-in-github",
        "colab_type": "text"
      },
      "source": [
        "<a href=\"https://colab.research.google.com/github/bloodfield2/ProyectoVision/blob/main/Proyecto_de_visi%C3%B3n.ipynb\" target=\"_parent\"><img src=\"https://colab.research.google.com/assets/colab-badge.svg\" alt=\"Open In Colab\"/></a>"
      ]
    },
    {
      "cell_type": "markdown",
      "source": [
        "# Proyecto de Visión \n",
        "#     Practical Self Calibration Using a Planar Scene\n",
        "## Estudiantes\n",
        "Chin Parra Keny\n",
        "\n",
        "Chávez Aparicio Edgar Iván\n",
        "\n",
        "##    Guía\n",
        "\n",
        "1. cargar los siguientes archivos a /content/:\n",
        "+ picture_2022-03-09_14-10-45.jpg\n",
        "+ picture_2022-03-09_14-10-49.jpg\n",
        "+ rookie.py\n"
      ],
      "metadata": {
        "id": "3MCCel8fxD8R"
      }
    },
    {
      "cell_type": "markdown",
      "source": [
        "#    EN PROGRESO:\n",
        "\n",
        "Se está probando el código para el caso de un solo par de imágenes para\n",
        "después extender a N.\n",
        "\n",
        "#    Instrucciones:\n",
        "\n",
        "Trabajar las funciones de forma modular en `rookie.py`\n",
        "Lo que se esté trabajando, desarrollarlo en el block de notas\n",
        "Una vez terminadas las faces, hacer un módulo si está muy grande\n",
        "\n",
        "#    TODO\n",
        "\n",
        "##  ~Para un solo par de imágnes~\n",
        "+ ~Feature Matching~\n",
        "+ ~Projective reconstruction~\n",
        "+ ~Projective Boundle Adjustment~\n",
        "+ ~Homography based calibration~\n",
        "+ ~Metric reconstruction~\n",
        "\n",
        "\n",
        "##  Para N imágnes\n",
        "+ Feature Matching\n",
        "+ Projective reconstruction\n",
        "+ Projective Boundle Adjustment \n",
        "+ Homography based calibration\n",
        "+ Metric reconstruction"
      ],
      "metadata": {
        "id": "IKiy96nf4hpn"
      }
    },
    {
      "cell_type": "code",
      "execution_count": 1,
      "metadata": {
        "id": "xZMD-zXawuEf"
      },
      "outputs": [],
      "source": [
        "import numpy as np\n",
        "import cv2 \n",
        "import glob\n",
        "from rookie  import *\n",
        "from scipy.optimize import minimize\n",
        "from scipy.optimize import minimize_scalar\n"
      ]
    },
    {
      "cell_type": "code",
      "source": [
        "img1 = cv2.imread('picture_2022-03-09_14-10-45.jpg',0)\n",
        "img2 = cv2.imread('picture_2022-03-09_14-10-49.jpg',0)\n",
        "print(img1.shape)"
      ],
      "metadata": {
        "id": "R51ubK-Pzxc5",
        "colab": {
          "base_uri": "https://localhost:8080/"
        },
        "outputId": "318274ae-6d4d-45c1-fd9a-b10921bf87f3"
      },
      "execution_count": 2,
      "outputs": [
        {
          "output_type": "stream",
          "name": "stdout",
          "text": [
            "(480, 640)\n"
          ]
        }
      ]
    },
    {
      "cell_type": "code",
      "source": [
        "# Part 1: Feature Matching\n",
        "points1, points2 = Features(img1,img2)\n",
        "print(points1.shape,points2.shape)\n"
      ],
      "metadata": {
        "colab": {
          "base_uri": "https://localhost:8080/"
        },
        "id": "OF-okkqb1CM7",
        "outputId": "b60139f7-b171-45e3-cc6c-9b69621b1815"
      },
      "execution_count": 3,
      "outputs": [
        {
          "output_type": "stream",
          "name": "stdout",
          "text": [
            "(75, 2) (75, 2)\n"
          ]
        }
      ]
    },
    {
      "cell_type": "code",
      "source": [
        "# Part 2: First Proyective resconstruction\n",
        "h, status = cv2.findHomography(points1, points2, cv2.RANSAC,0.5)\n",
        "print(h)"
      ],
      "metadata": {
        "colab": {
          "base_uri": "https://localhost:8080/"
        },
        "id": "rBngKgX02-IC",
        "outputId": "25885c8d-02a2-42bb-f26c-87dc1ed4a2c0"
      },
      "execution_count": 4,
      "outputs": [
        {
          "output_type": "stream",
          "name": "stdout",
          "text": [
            "[[ 2.37395862e+00  2.68222567e-01 -2.16694685e+02]\n",
            " [ 2.30522793e-01  1.63172925e+00 -3.13791974e+01]\n",
            " [ 2.38005858e-03  1.07947996e-04  1.00000000e+00]]\n"
          ]
        }
      ]
    },
    {
      "cell_type": "code",
      "source": [
        "# Part 3: Projective Boundle adjustment\n",
        "\n",
        "x = np.array([1,1,1,1]) # starting point\n",
        "center = np.array(list(img1.shape))/2\n",
        "center = center.reshape((2,1))\n",
        "args = (points1,points2,h,center)\n",
        "#PBA(x,points1,points2,h,np.array(list(img1.shape))/2.0 )\n",
        "xmin = minimize(PBA, x,args = args, method='nelder-mead',options={'maxiter' :2000,'disp': True},tol = 10**-12)\n",
        "print(xmin)\n",
        "xmin = xmin['x']\n",
        "p0 = xmin[:2]\n",
        "d = xmin[2:]"
      ],
      "metadata": {
        "id": "RhFjN73Q3zeB",
        "colab": {
          "base_uri": "https://localhost:8080/"
        },
        "outputId": "3a90326a-4906-44e2-c97a-da3b79b6ffa9"
      },
      "execution_count": 5,
      "outputs": [
        {
          "output_type": "stream",
          "name": "stdout",
          "text": [
            "Optimization terminated successfully.\n",
            "         Current function value: 17281.220054\n",
            "         Iterations: 890\n",
            "         Function evaluations: 1684\n",
            " final_simplex: (array([[ 9.60294230e-01,  1.28615744e+00,  2.31810265e-08,\n",
            "        -1.49678420e-13],\n",
            "       [ 9.60294230e-01,  1.28615744e+00,  2.31810265e-08,\n",
            "        -1.49678420e-13],\n",
            "       [ 9.60294230e-01,  1.28615744e+00,  2.31810265e-08,\n",
            "        -1.49678420e-13],\n",
            "       [ 9.60294230e-01,  1.28615744e+00,  2.31810265e-08,\n",
            "        -1.49678420e-13],\n",
            "       [ 9.60294230e-01,  1.28615744e+00,  2.31810265e-08,\n",
            "        -1.49678420e-13]]), array([17281.22005413, 17281.22005413, 17281.22005413, 17281.22005413,\n",
            "       17281.22005413]))\n",
            "           fun: 17281.220054126083\n",
            "       message: 'Optimization terminated successfully.'\n",
            "          nfev: 1684\n",
            "           nit: 890\n",
            "        status: 0\n",
            "       success: True\n",
            "             x: array([ 9.60294230e-01,  1.28615744e+00,  2.31810265e-08, -1.49678420e-13])\n"
          ]
        }
      ]
    },
    {
      "cell_type": "code",
      "source": [
        "#   part 4: Homography self calibration\n",
        "#h /= norm(h)\n",
        "args = (h)\n",
        "xmin = minimize_scalar(residuals, args = args,tol = 10**-7)\n",
        "print(xmin)\n",
        "xmin = xmin['x']\n",
        "\n",
        "h /= norm(h)\n",
        "args = (h)\n",
        "x = np.array([xmin,p0[0],xmin,p0[1],0,0,1])\n",
        "xmin = minimize(FNF, x,args = args, method='nelder-mead',options={'disp': True},tol = 10**-7)\n",
        "print(xmin)\n",
        "xmin = xmin['x']\n",
        "f = np.array([xmin[0],xmin[2]])\n",
        "p0 = np.array([xmin[1],xmin[3]]).reshape((2,1))\n",
        "n0 = xmin[4:]"
      ],
      "metadata": {
        "colab": {
          "base_uri": "https://localhost:8080/"
        },
        "id": "vDHrVOJDuSv_",
        "outputId": "1d218a9b-5404-4ee1-db30-f4d2ce3b3f68"
      },
      "execution_count": 8,
      "outputs": [
        {
          "output_type": "stream",
          "name": "stdout",
          "text": [
            "     fun: 6.513258801718936e-05\n",
            "    nfev: 17\n",
            "     nit: 13\n",
            " success: True\n",
            "       x: 1.0817795561482467e-11\n",
            "Warning: Maximum number of function evaluations has been exceeded.\n",
            " final_simplex: (array([[ 1.09943756e-11,  3.92995811e-01, -1.51384677e-19,\n",
            "         1.38313503e+00,  5.17770068e-03,  1.61501522e-20,\n",
            "         1.98881000e+00],\n",
            "       [ 1.09943756e-11,  3.92995814e-01, -9.61322996e-20,\n",
            "         1.38313503e+00,  5.17770065e-03,  1.02556734e-20,\n",
            "         1.98881000e+00],\n",
            "       [ 1.09943756e-11,  3.92995811e-01, -1.45841977e-19,\n",
            "         1.38313503e+00,  5.17770068e-03,  1.55588403e-20,\n",
            "         1.98881000e+00],\n",
            "       [ 1.09943756e-11,  3.92995812e-01, -1.32415897e-19,\n",
            "         1.38313503e+00,  5.17770067e-03,  1.41265128e-20,\n",
            "         1.98881000e+00],\n",
            "       [ 1.09943756e-11,  3.92995811e-01, -1.40928356e-19,\n",
            "         1.38313503e+00,  5.17770068e-03,  1.50346406e-20,\n",
            "         1.98881000e+00],\n",
            "       [ 1.09943756e-11,  3.92995810e-01, -1.65688683e-19,\n",
            "         1.38313503e+00,  5.17770069e-03,  1.76761499e-20,\n",
            "         1.98881000e+00],\n",
            "       [ 1.09943756e-11,  3.92995812e-01, -1.32513542e-19,\n",
            "         1.38313503e+00,  5.17770067e-03,  1.41369233e-20,\n",
            "         1.98881000e+00],\n",
            "       [ 1.09943756e-11,  3.92995811e-01, -1.45921350e-19,\n",
            "         1.38313503e+00,  5.17770068e-03,  1.55673150e-20,\n",
            "         1.98881000e+00]]), array([-1.78233402e+49, -1.70099792e+49, -1.22556505e+49, -1.05612658e+49,\n",
            "       -1.05029917e+49, -7.79141671e+48, -7.33861796e+48, -4.90489617e+48]))\n",
            "           fun: -1.7823340159611849e+49\n",
            "       message: 'Maximum number of function evaluations has been exceeded.'\n",
            "          nfev: 1401\n",
            "           nit: 807\n",
            "        status: 1\n",
            "       success: False\n",
            "             x: array([ 1.09943756e-11,  3.92995811e-01, -1.51384677e-19,  1.38313503e+00,\n",
            "        5.17770068e-03,  1.61501522e-20,  1.98881000e+00])\n"
          ]
        }
      ]
    },
    {
      "cell_type": "code",
      "source": [
        "#   part 5: Metric Reconstruction\n",
        "K = np.array([[xmin[0],0,xmin[1]],[0,xmin[2],xmin[3]],[0,0,1]])\n",
        "x = np.concatenate([K.reshape((9)),d])    #   K d \n",
        "args = (n0,h,p0,points1,points2)\n",
        "res = MRF(x,*args)\n",
        "\n",
        "print(res)"
      ],
      "metadata": {
        "colab": {
          "base_uri": "https://localhost:8080/"
        },
        "id": "aJG2WBiQvRR6",
        "outputId": "7f9324c3-0300-462f-a999-449501ec695f"
      },
      "execution_count": 9,
      "outputs": [
        {
          "output_type": "stream",
          "name": "stdout",
          "text": [
            "19965.021469655385\n"
          ]
        }
      ]
    },
    {
      "cell_type": "code",
      "source": [
        "#   Test\n",
        "m = points1.shape[0]\n",
        "test_pref = np.concatenate([points1.T,np.ones((1,m))])\n",
        "test_pref = h@test_pref \n",
        "test_pref = test_pref[:2,:]/test_pref[2,:]\n",
        "test_pref = Distorted(test_pref,xmin[:2].reshape((2,1)),xmin[2:4])\n",
        "norms = np.linalg.norm(test_pref-points2,axis = 1)\n",
        "print(norms.sum(),norms.mean(),norms.max())\n",
        "test_pref = np.concatenate([points1.T,np.ones((1,m))])\n",
        "test_pref = h@test_pref \n",
        "test_pref = test_pref[:2,:]/test_pref[2,:]\n",
        "norms = np.linalg.norm(test_pref.T-points2,axis = 1)\n",
        "print(norms.sum(),norms.mean(),norms.max())"
      ],
      "metadata": {
        "colab": {
          "base_uri": "https://localhost:8080/"
        },
        "id": "PSwhJ25sFqo4",
        "outputId": "0b661d9f-b747-4df4-8d92-6baffb570ce2"
      },
      "execution_count": 6,
      "outputs": [
        {
          "output_type": "stream",
          "name": "stdout",
          "text": [
            "74.27147400871847 0.9902863201162463 5.761299192945103\n",
            "74.27576287630956 0.9903435050174607 5.767173511835501\n"
          ]
        }
      ]
    },
    {
      "cell_type": "code",
      "source": [
        ""
      ],
      "metadata": {
        "id": "vqBCmGN2ayf-"
      },
      "execution_count": null,
      "outputs": []
    }
  ]
}
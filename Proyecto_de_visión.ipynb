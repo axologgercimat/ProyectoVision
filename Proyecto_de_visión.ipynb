{
  "nbformat": 4,
  "nbformat_minor": 0,
  "metadata": {
    "colab": {
      "name": "Proyecto de visión.ipynb",
      "provenance": [],
      "authorship_tag": "ABX9TyMqjWkuxjKEVajCnm0rhwFM",
      "include_colab_link": true
    },
    "kernelspec": {
      "name": "python3",
      "display_name": "Python 3"
    },
    "language_info": {
      "name": "python"
    }
  },
  "cells": [
    {
      "cell_type": "markdown",
      "metadata": {
        "id": "view-in-github",
        "colab_type": "text"
      },
      "source": [
        "<a href=\"https://colab.research.google.com/github/bloodfield2/ProyectoVision/blob/main/Proyecto_de_visi%C3%B3n.ipynb\" target=\"_parent\"><img src=\"https://colab.research.google.com/assets/colab-badge.svg\" alt=\"Open In Colab\"/></a>"
      ]
    },
    {
      "cell_type": "markdown",
      "source": [
        "# Proyecto de Visión \n",
        "#     Practical Self Calibration Using a Planar Scene\n",
        "## Estudiantes\n",
        "Chin Parra Keny\n",
        "\n",
        "Chávez Aparicio Edgar Iván\n",
        "\n",
        "##    "
      ],
      "metadata": {
        "id": "3MCCel8fxD8R"
      }
    },
    {
      "cell_type": "markdown",
      "source": [
        "#    EN PROGRESO:\n",
        "\n",
        "Se está probando el código para el caso de un solo par de imágenes para\n",
        "después extender a N.\n",
        "\n",
        "#    TODO\n",
        "\n",
        "##  Para un solo par de imágnes\n",
        "+ ~Feature Matching~\n",
        "+ Projective reconstruction\n",
        "+ Projective Boundle Adjustment \n",
        "+ Homography based calibration\n",
        "+ Netric reconstruction\n",
        "+ Metric Boundle Adjustment\n",
        "\n",
        "\n",
        "##  Para N imágnes\n",
        "+ Feature Matching\n",
        "+ Projective reconstruction\n",
        "+ Projective Boundle Adjustment \n",
        "+ Homography based calibration\n",
        "+ Netric reconstruction\n",
        "+ Metric Boundle Adjustment "
      ],
      "metadata": {
        "id": "IKiy96nf4hpn"
      }
    },
    {
      "cell_type": "code",
      "execution_count": 3,
      "metadata": {
        "id": "xZMD-zXawuEf"
      },
      "outputs": [],
      "source": [
        "import numpy as np\n",
        "import cv2 \n",
        "import glob\n",
        "\n",
        "MAX_FEATURES = 500\n",
        "GOOD_MATCH_PERCENT = 0.15"
      ]
    },
    {
      "cell_type": "code",
      "source": [
        "img1 = cv2.imread('/home/Proyecto de visión/picture_2022-03-09_14-10-45.jpg',0)\n",
        "img2 = cv2.imread('/home/Proyecto de visión/picture_2022-03-09_14-10-49.jpg',0)"
      ],
      "metadata": {
        "id": "R51ubK-Pzxc5"
      },
      "execution_count": 4,
      "outputs": []
    },
    {
      "cell_type": "code",
      "source": [
        "def Features(img1,img2):\n",
        "    # Detect ORB features and com pute descriptors.\n",
        "    orb = cv2.ORB_create(MAX_FEATURES)\n",
        "    keypoints1, descriptors1 = orb.detectAndCompute(img1, None)\n",
        "    keypoints2, descriptors2 = orb.detectAndCompute(img2, None)\n",
        "\n",
        "    # Match features.\n",
        "    matcher = cv2.DescriptorMatcher_create(cv2.DESCRIPTOR_MATCHER_BRUTEFORCE_HAMMING)\n",
        "    matches = matcher.match(descriptors1, descriptors2, None)\n",
        "\n",
        "    # Sort matches by score\n",
        "    matches = sorted(matches,key=lambda x: x.distance, reverse=False)\n",
        "\n",
        "    # Remove not so good matches\n",
        "    numGoodMatches = int(len(matches) * GOOD_MATCH_PERCENT)\n",
        "    matches = matches[:numGoodMatches]\n",
        "\n",
        "    # Extract location of good matches\n",
        "    points1 = np.zeros((len(matches), 2), dtype=np.float32)\n",
        "    points2 = np.zeros((len(matches), 2), dtype=np.float32)\n",
        "    for i, match in enumerate(matches):\n",
        "        points1[i, :] = keypoints1[match.queryIdx].pt\n",
        "        points2[i, :] = keypoints2[match.trainIdx].pt\n",
        "    return points1, points2"
      ],
      "metadata": {
        "id": "WB-JUTjW0lTn"
      },
      "execution_count": 10,
      "outputs": []
    },
    {
      "cell_type": "code",
      "source": [
        "# Part 1: Feature Matching\n",
        "points1, points2 = Features(img1,img2)\n",
        "print(points1.shape,points2.shape)\n"
      ],
      "metadata": {
        "colab": {
          "base_uri": "https://localhost:8080/"
        },
        "id": "OF-okkqb1CM7",
        "outputId": "7dcb2e43-f6dd-4769-9d33-f34c33a9c1a7"
      },
      "execution_count": 13,
      "outputs": [
        {
          "output_type": "stream",
          "name": "stdout",
          "text": [
            "(75, 2) (75, 2)\n"
          ]
        }
      ]
    },
    {
      "cell_type": "code",
      "source": [
        "# Part 2: First Proyective resconstruction\n",
        "h, status = cv2.findHomography(points1, points2)\n",
        "print(h)"
      ],
      "metadata": {
        "colab": {
          "base_uri": "https://localhost:8080/"
        },
        "id": "rBngKgX02-IC",
        "outputId": "cf059270-6c34-4a7e-dfe2-235c671d941b"
      },
      "execution_count": 16,
      "outputs": [
        {
          "output_type": "stream",
          "name": "stdout",
          "text": [
            "[[ 2.14640029e+00  2.46424939e-01 -1.80895350e+02]\n",
            " [ 1.63626100e-01  1.53999084e+00 -1.69429229e+01]\n",
            " [ 1.99463699e-03  1.06972742e-04  1.00000000e+00]]\n"
          ]
        }
      ]
    },
    {
      "cell_type": "code",
      "source": [
        ""
      ],
      "metadata": {
        "id": "RhFjN73Q3zeB"
      },
      "execution_count": null,
      "outputs": []
    }
  ]
}